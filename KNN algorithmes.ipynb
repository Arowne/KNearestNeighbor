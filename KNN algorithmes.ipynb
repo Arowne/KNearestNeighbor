{
 "cells": [
  {
   "cell_type": "code",
   "execution_count": 146,
   "metadata": {},
   "outputs": [],
   "source": [
    "import numpy as np\n",
    "import matplotlib.pyplot as plt\n",
    "from math import sqrt"
   ]
  },
  {
   "cell_type": "code",
   "execution_count": 147,
   "metadata": {},
   "outputs": [],
   "source": [
    "class KNN():\n",
    "    \n",
    "    def __init__(self):\n",
    "        np.random.seed(1)\n",
    "        self.y = np.random.randint(low=1, high=10, size=10)\n",
    "        self.X = np.arange(10)\n",
    "        self.distances = []\n",
    "        self.sorted_distances = []\n",
    "        self.to_predict = []\n",
    "    \n",
    "    def show(self):\n",
    "        print(self.X)\n",
    "        print(self.y)\n",
    "        plt.plot(self.X, self.y, 'bo')\n",
    "        return False\n",
    "\n",
    "    def add(self, x, y):\n",
    "        self.to_predict.append((x, y))\n",
    "    \n",
    "    def get_manathan(self):\n",
    "        return False\n",
    "\n",
    "    def compute_manathan_distance(self):\n",
    "        for coordinate in self.to_predict:\n",
    "            \n",
    "            x = coordinate[0]\n",
    "            y = coordinate[1]\n",
    "\n",
    "            for i in range(10):\n",
    "                euclidian_distance = abs((y - self.y[i])) +  abs((x - self.X[i]))\n",
    "                self.distances.append(euclidian_distance)\n",
    "                self.sorted_distances.append(euclidian_distance)\n",
    "    \n",
    "    def compute_euclidian_distance(self):\n",
    "        for coordinate in self.to_predict:\n",
    "            \n",
    "            x = coordinate[0]\n",
    "            y = coordinate[1]\n",
    "\n",
    "            for i in range(10):\n",
    "                euclidian_distance = sqrt((y - self.y[i])**2 +  (x - self.X[i])**2)\n",
    "                self.distances.append(euclidian_distance)\n",
    "                self.sorted_distances.append(euclidian_distance)\n",
    "                \n",
    "    def get_euclidian(self):\n",
    "        self.compute_euclidian_distance()\n",
    "        return self.distances\n",
    "    \n",
    "    def get_manathan(self):\n",
    "        self.compute_manathan_distance()\n",
    "        return self.distances\n",
    "    \n",
    "    def get_neighbors(self, limit):\n",
    "        distances = self.sorted_distances\n",
    "        distances.sort()\n",
    "        y = []\n",
    "        X = []\n",
    "        \n",
    "        for i in range(limit):\n",
    "            X.append(self.distances.index(distances[i]))\n",
    "            index = self.distances.index(distances[i])\n",
    "            y.append(0)\n",
    "            if i == 0:\n",
    "                plt.plot(index, self.y[index], 'go')\n",
    "            else:\n",
    "                plt.plot(index, self.y[index], 'ro')\n",
    "    "
   ]
  },
  {
   "cell_type": "code",
   "execution_count": 149,
   "metadata": {},
   "outputs": [
    {
     "name": "stdout",
     "output_type": "stream",
     "text": [
      "[0 1 2 3 4 5 6 7 8 9]\n",
      "[6 9 6 1 1 2 8 7 3 5]\n"
     ]
    },
    {
     "data": {
      "image/png": "[encoded data removed]",
      "text/plain": [
       "<Figure size 432x288 with 1 Axes>"
      ]
     },
     "metadata": {},
     "output_type": "display_data"
    }
   ],
   "source": [
    "KNN_classifier = KNN()\n",
    "KNN_classifier.show()\n",
    "KNN_classifier.add(7, 3)\n",
    "#euclidian = KNN_classifier.get_euclidian()\n",
    "manathan = KNN_classifier.get_manathan()\n",
    "KNN_classifier.get_neighbors(5)\n"
   ]
  },
  {
   "cell_type": "code",
   "execution_count": null,
   "metadata": {},
   "outputs": [],
   "source": []
  }
 ],
 "metadata": {
  "kernelspec": {
   "display_name": "Python 3",
   "language": "python",
   "name": "python3"
  },
  "language_info": {
   "codemirror_mode": {
    "name": "ipython",
    "version": 3
   },
   "file_extension": ".py",
   "mimetype": "text/x-python",
   "name": "python",
   "nbconvert_exporter": "python",
   "pygments_lexer": "ipython3",
   "version": "3.6.9"
  }
 },
 "nbformat": 4,
 "nbformat_minor": 2
}
